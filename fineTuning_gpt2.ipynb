{
  "nbformat": 4,
  "nbformat_minor": 0,
  "metadata": {
    "colab": {
      "provenance": [],
      "authorship_tag": "ABX9TyN8jhEX4APVuAy0kT9Fn7Ah",
      "include_colab_link": true
    },
    "kernelspec": {
      "name": "python3",
      "display_name": "Python 3"
    },
    "language_info": {
      "name": "python"
    }
  },
  "cells": [
    {
      "cell_type": "markdown",
      "metadata": {
        "id": "view-in-github",
        "colab_type": "text"
      },
      "source": [
        "<a href=\"https://colab.research.google.com/github/kunalsonalkar/training-llms/blob/main/fineTuning_gpt2.ipynb\" target=\"_parent\"><img src=\"https://colab.research.google.com/assets/colab-badge.svg\" alt=\"Open In Colab\"/></a>"
      ]
    },
    {
      "cell_type": "code",
      "execution_count": 2,
      "metadata": {
        "colab": {
          "base_uri": "https://localhost:8080/"
        },
        "id": "uL_APWl0eviE",
        "outputId": "f3640a11-055d-47a3-e8c4-2895b36ea709"
      },
      "outputs": [
        {
          "output_type": "stream",
          "name": "stdout",
          "text": [
            "Cloning into 'LLMs-from-scratch'...\n",
            "remote: Enumerating objects: 5555, done.\u001b[K\n",
            "remote: Total 5555 (delta 0), reused 0 (delta 0), pack-reused 5555 (from 1)\u001b[K\n",
            "Receiving objects: 100% (5555/5555), 12.92 MiB | 21.03 MiB/s, done.\n",
            "Resolving deltas: 100% (3479/3479), done.\n"
          ]
        }
      ],
      "source": [
        "!git clone https://github.com/rasbt/LLMs-from-scratch.git"
      ]
    },
    {
      "cell_type": "code",
      "source": [
        "import pandas as pd\n",
        "\n",
        "try:\n",
        "    labels = pd.read_csv('/content/LLMs-from-scratch/ch06/01_main-chapter-code/query_intent_labels.csv', encoding='latin1',usecols=[0,1])\n",
        "except UnicodeDecodeError:\n",
        "    labels = pd.read_csv('/content/LLMs-from-scratch/ch06/01_main-chapter-code/query_intent_labels.csv', encoding='cp1252', usecols=[0,1])\n",
        "# If none of the encoding above work, you may also try:\n",
        "# labels = pd.read_csv('/content/LLMs-from-scratch/ch06/01_main-chapter-code/query_intent_labels.csv', encoding='utf-16')\n",
        "# labels = pd.read_csv('/content/LLMs-from-scratch/ch06/01_main-chapter-code/query_intent_labels.csv', encoding='iso-8859-1')"
      ],
      "metadata": {
        "id": "z8fGFIfmmZYz"
      },
      "execution_count": 16,
      "outputs": []
    },
    {
      "cell_type": "code",
      "source": [
        "import pandas as pd\n",
        "\n",
        "# Your category-to-integer mapping\n",
        "category_map = {\n",
        "    'shoes_a12': 0,\n",
        "    'makeup_a30': 1,\n",
        "    'bottoms_a3': 2,\n",
        "    'tops_a2': 3,\n",
        "    'dresses_a1': 4,\n",
        "    'underwear_lingerie_a7': 5,\n",
        "    'fragrance_a31': 6,\n",
        "    'skin_body_treatment_a32': 7,\n",
        "    'outerwear_a11': 8,\n",
        "    'sleepwear_a9': 9,\n",
        "    'jewelry_a14': 10,\n",
        "    'bags_a17': 11,\n",
        "    'hosiery_a16': 12,\n",
        "    'baby_accessories_a28': 13,\n",
        "    'swimwear_a8': 14,\n",
        "    'home_a35': 15,\n",
        "    'hair_care_a33': 16,\n",
        "    'eyewear_a19': 17,\n",
        "    'hair_accessories_a20': 18,\n",
        "    'headwear_a18': 19,\n",
        "    'jumpsuits_coveralls_a4': 20,\n",
        "    'personal_care_accessories_a34': 21,\n",
        "    'belts__braces_a26': 22,\n",
        "    'jacket_sportcoat_mg12': 23,\n",
        "    'small_leather_goods_a23': 24,\n",
        "    'food_a38': 25,\n",
        "    'suits_sets_wardrobers_mg5': 26,\n",
        "    'stationery_giftwrap_a36': 27,\n",
        "    'shoe_care_a13': 28,\n",
        "    'toys_games_a37': 29\n",
        "}\n",
        "\n",
        "\n",
        "# Map categories to integers\n",
        "labels['category_int'] = labels['product_type_1_label'].map(category_map)\n",
        "print(labels)\n"
      ],
      "metadata": {
        "colab": {
          "base_uri": "https://localhost:8080/"
        },
        "id": "SoTeu4wantKV",
        "outputId": "d37a5c12-112c-48cb-a909-7a143645082b"
      },
      "execution_count": 20,
      "outputs": [
        {
          "output_type": "stream",
          "name": "stdout",
          "text": [
            "              search_term   product_type_1_label  category_int\n",
            "0             womens uggs              shoes_a12             0\n",
            "1       charlotte tilbury             makeup_a30             1\n",
            "2     womens birkenstocks              shoes_a12             0\n",
            "3                    uggs              shoes_a12             0\n",
            "4            womens nikes              shoes_a12             0\n",
            "...                   ...                    ...           ...\n",
            "2020  blue cocktail dress             dresses_a1             4\n",
            "2021            boob tape  underwear_lingerie_a7             5\n",
            "2022           bp pajamas           sleepwear_a9             9\n",
            "2023                campo              shoes_a12             0\n",
            "2024        cordani shoes              shoes_a12             0\n",
            "\n",
            "[2025 rows x 3 columns]\n"
          ]
        }
      ]
    },
    {
      "cell_type": "code",
      "source": [
        "def random_split(df, train_frac=0.7, validation_frac=0.2):\n",
        "  df = df.sample(frac=1, random_state=42).reset_index(drop=True)\n",
        "  train_end = int(len(df) * train_frac)\n",
        "  validation_end = train_end + int(len(df) * validation_frac)\n",
        "  train_df = df[:train_end]\n",
        "  validation_df = df[train_end:validation_end]\n",
        "  test_df = df[validation_end:]\n",
        "  return train_df, validation_df, test_df"
      ],
      "metadata": {
        "id": "i2Pz_4ugppzJ"
      },
      "execution_count": 21,
      "outputs": []
    },
    {
      "cell_type": "code",
      "source": [
        "train_df, validation_df, test_df = random_split(labels, train_frac=0.7, validation_frac=0.1)"
      ],
      "metadata": {
        "id": "IRKjQFIQspz8"
      },
      "execution_count": 22,
      "outputs": []
    },
    {
      "cell_type": "code",
      "source": [
        "train_df.to_csv('train.csv', index=None)\n",
        "validation_df.to_csv('validation.csv', index=None)\n",
        "test_df.to_csv('test.csv', index=None)"
      ],
      "metadata": {
        "id": "wen-xCKWT2hD"
      },
      "execution_count": 39,
      "outputs": []
    },
    {
      "cell_type": "code",
      "source": [
        "import tiktoken\n",
        "tokenizer = tiktoken.get_encoding(\"gpt2\")\n",
        "print(tokenizer.decode([50256]))"
      ],
      "metadata": {
        "colab": {
          "base_uri": "https://localhost:8080/"
        },
        "id": "HBCUd6yIxYEE",
        "outputId": "0498e775-689e-49d0-b755-0bb5ed51708b"
      },
      "execution_count": 31,
      "outputs": [
        {
          "output_type": "stream",
          "name": "stdout",
          "text": [
            "<|endoftext|>\n"
          ]
        }
      ]
    },
    {
      "cell_type": "code",
      "source": [
        "import torch\n",
        "from torch.utils.data import Dataset\n",
        "\n",
        "class queryIntent(Dataset):\n",
        "  def __init__(self, csv_file, tokenizer, max_length = None, pad_token_id=50256):\n",
        "      self.data = pd.read_csv(csv_file)\n",
        "      self.encoded_texts = [\n",
        "          tokenizer.encode(text) for text in self.data[\"search_term\"]\n",
        "      ]\n",
        "      if max_length is None:\n",
        "        self.max_length = self._longest_encoded_length()\n",
        "      else:\n",
        "        self.max_length = max_length\n",
        "        self.encoded_texts = [\n",
        "            encoded_text[:self.max_length] for encoded_text in self.encoded_texts\n",
        "        ]\n",
        "\n",
        "      self.encoded_texts = [\n",
        "          encoded_text + [pad_token_id] * (self.max_length - len(encoded_text))\n",
        "          for encoded_text in self.encoded_texts\n",
        "      ]\n",
        "\n",
        "  def __getitem__(self, index):\n",
        "      encoded = self.encoded_texts[index]\n",
        "      label = self.data.iloc[index][\"label\"]\n",
        "      return (\n",
        "          torch.tensor(encoded, dtype=torch.long),\n",
        "          torch.tensor(label, dtype=torch.long)\n",
        "      )\n",
        "\n",
        "  def __len__(self):\n",
        "      return len(self.data)\n",
        "\n",
        "  def _longest_encoded_length(self):\n",
        "      max_length = 0\n",
        "      for encoded_text in self.encoded_texts:\n",
        "          encoded_length = len(encoded_text)\n",
        "          if encoded_length > max_length:\n",
        "              max_length = encoded_length\n",
        "      return max_length"
      ],
      "metadata": {
        "id": "MgWut2U_yTOM"
      },
      "execution_count": 38,
      "outputs": []
    },
    {
      "cell_type": "code",
      "source": [
        "train_dataset = queryIntent(\"train.csv\", max_length=None, tokenizer=tokenizer)\n",
        "validation_dataset = queryIntent(\"validation.csv\", max_length = None, tokenizer=tokenizer)\n",
        "test_dataset = queryIntent(\"test.csv\", max_length = None, tokenizer=tokenizer)"
      ],
      "metadata": {
        "id": "NgC2Zi7lQ8gd"
      },
      "execution_count": 40,
      "outputs": []
    },
    {
      "cell_type": "code",
      "source": [
        "print(train_dataset.max_length)"
      ],
      "metadata": {
        "colab": {
          "base_uri": "https://localhost:8080/"
        },
        "id": "F6gKxTt5UZdw",
        "outputId": "da9e143f-6902-4e46-ff5a-224867437e87"
      },
      "execution_count": 41,
      "outputs": [
        {
          "output_type": "stream",
          "name": "stdout",
          "text": [
            "10\n"
          ]
        }
      ]
    },
    {
      "cell_type": "code",
      "source": [],
      "metadata": {
        "id": "bHyQdc8yU15N"
      },
      "execution_count": null,
      "outputs": []
    }
  ]
}